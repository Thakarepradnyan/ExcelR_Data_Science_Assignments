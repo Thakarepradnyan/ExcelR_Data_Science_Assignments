{
 "cells": [
  {
   "cell_type": "code",
   "execution_count": 9,
   "id": "e561e444",
   "metadata": {},
   "outputs": [
    {
     "name": "stdout",
     "output_type": "stream",
     "text": [
      "ENter a num3\n",
      "Not Prime\n"
     ]
    }
   ],
   "source": [
    "# Que. 1  Program for finding a number is prime number or not..\n",
    "\n",
    "\n",
    "num = int(input('ENter a num'))\n",
    "\n",
    "for i in range(2,num):\n",
    "  if num%i==0:\n",
    "    flag = 1\n",
    "    break\n",
    "if flag == 1:\n",
    "  print('Not Prime')\n",
    "else:\n",
    "  print(\"Prime\")"
   ]
  },
  {
   "cell_type": "code",
   "execution_count": 13,
   "id": "e7d6bdc6",
   "metadata": {},
   "outputs": [
    {
     "name": "stdout",
     "output_type": "stream",
     "text": [
      "Enter product of 9 and 653\n",
      "Entered product is wrong, correct product is 54\n"
     ]
    }
   ],
   "source": [
    "# Que. 2 Product of random numbers\n",
    "\n",
    "import random\n",
    "\n",
    "num1 = random.randint(1, 11)\n",
    "num2 = random.randint(1, 11)\n",
    "product = num1*num2\n",
    "product1 = int(input(f'Enter product of {num1} and {num2}'))\n",
    "if product == product1:\n",
    "    print('Product is correct')\n",
    "else:\n",
    "    print(f'Entered product is wrong, correct product is {product}')"
   ]
  },
  {
   "cell_type": "code",
   "execution_count": 27,
   "id": "fb23f399",
   "metadata": {},
   "outputs": [
    {
     "name": "stdout",
     "output_type": "stream",
     "text": [
      "100, 10000\n",
      "102, 10404\n",
      "104, 10816\n",
      "106, 11236\n",
      "108, 11664\n",
      "110, 12100\n",
      "112, 12544\n",
      "114, 12996\n",
      "116, 13456\n",
      "118, 13924\n",
      "120, 14400\n",
      "122, 14884\n",
      "124, 15376\n",
      "126, 15876\n",
      "128, 16384\n",
      "130, 16900\n",
      "132, 17424\n",
      "134, 17956\n",
      "136, 18496\n",
      "138, 19044\n",
      "140, 19600\n",
      "142, 20164\n",
      "144, 20736\n",
      "146, 21316\n",
      "148, 21904\n",
      "150, 22500\n",
      "152, 23104\n",
      "154, 23716\n",
      "156, 24336\n",
      "158, 24964\n",
      "160, 25600\n",
      "162, 26244\n",
      "164, 26896\n",
      "166, 27556\n",
      "168, 28224\n",
      "170, 28900\n",
      "172, 29584\n",
      "174, 30276\n",
      "176, 30976\n",
      "178, 31684\n",
      "180, 32400\n",
      "182, 33124\n",
      "184, 33856\n",
      "186, 34596\n",
      "188, 35344\n",
      "190, 36100\n",
      "192, 36864\n",
      "194, 37636\n",
      "196, 38416\n",
      "198, 39204\n",
      "200, 40000\n"
     ]
    }
   ],
   "source": [
    "#Que. 3 squares of even numbers\n",
    "\n",
    "squares = [(num, num ** 2) for num in range(100, 201) if num % 2 == 0]\n",
    "for pair in squares:\n",
    "    print(f'{pair[0]}, {pair[1]}')"
   ]
  },
  {
   "cell_type": "code",
   "execution_count": 30,
   "id": "8a9e247e",
   "metadata": {},
   "outputs": [
    {
     "name": "stdout",
     "output_type": "stream",
     "text": [
      "Word frequency:\n",
      "this: 2\n",
      "a: 1\n",
      "word: 1\n",
      "will: 1\n",
      "be: 1\n",
      "used: 1\n",
      "is: 1\n",
      "to: 1\n",
      "counter: 1\n",
      "text: 1\n",
      "demonstrate: 1\n",
      "the: 1\n",
      "text.: 1\n",
      "sample: 1\n"
     ]
    }
   ],
   "source": [
    "# Que. 4 word counter\n",
    "\n",
    "text = 'This is a sample text. This text will be used to demonstrate the word counter'.lower().split()\n",
    "frequency = {word: text.count(word) for word in set(text)}\n",
    "print(\"Word frequency:\")\n",
    "for word, freq in frequency.items():\n",
    "    print(f\"{word}: {freq}\")"
   ]
  },
  {
   "cell_type": "code",
   "execution_count": 33,
   "id": "ad63a68b",
   "metadata": {},
   "outputs": [
    {
     "name": "stdout",
     "output_type": "stream",
     "text": [
      "Enter a string: racecar\n",
      "It's a palindrome!\n"
     ]
    }
   ],
   "source": [
    "# Que. 5 \n",
    "\n",
    "import re\n",
    "\n",
    "def is_palindrome(s):\n",
    "    # Removing  spaces, punctuations, and convertign string to lowercase\n",
    "    s = re.sub(r'[^a-zA-Z0-9]', '', s.lower())\n",
    "    \n",
    "    # Checking for palindrome\n",
    "    return s == s[::-1]\n",
    "\n",
    "string = input(\"Enter a string: \")\n",
    "if is_palindrome(string):\n",
    "    print(\"It's a palindrome!\")\n",
    "else:\n",
    "    print(\"It's not a palindrome.\")\n"
   ]
  },
  {
   "cell_type": "code",
   "execution_count": null,
   "id": "f40c8565",
   "metadata": {},
   "outputs": [],
   "source": []
  }
 ],
 "metadata": {
  "kernelspec": {
   "display_name": "Python 3 (ipykernel)",
   "language": "python",
   "name": "python3"
  },
  "language_info": {
   "codemirror_mode": {
    "name": "ipython",
    "version": 3
   },
   "file_extension": ".py",
   "mimetype": "text/x-python",
   "name": "python",
   "nbconvert_exporter": "python",
   "pygments_lexer": "ipython3",
   "version": "3.11.3"
  }
 },
 "nbformat": 4,
 "nbformat_minor": 5
}
