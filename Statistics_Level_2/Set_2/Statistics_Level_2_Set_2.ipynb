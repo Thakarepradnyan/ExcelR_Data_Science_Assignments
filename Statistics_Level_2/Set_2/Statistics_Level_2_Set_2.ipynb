{
  "nbformat": 4,
  "nbformat_minor": 0,
  "metadata": {
    "colab": {
      "provenance": []
    },
    "kernelspec": {
      "name": "python3",
      "display_name": "Python 3"
    },
    "language_info": {
      "name": "python"
    }
  },
  "cells": [
    {
      "cell_type": "markdown",
      "source": [
        "# Question 1"
      ],
      "metadata": {
        "id": "KCj3EUu659g1"
      }
    },
    {
      "cell_type": "code",
      "source": [
        "from scipy import stats\n",
        "1 - stats.norm.cdf(50,45,8)"
      ],
      "metadata": {
        "colab": {
          "base_uri": "https://localhost:8080/"
        },
        "id": "ixfOSk2y6C2k",
        "outputId": "590f0e39-b44a-4ab1-8a4c-24747d68be7d"
      },
      "execution_count": null,
      "outputs": [
        {
          "output_type": "execute_result",
          "data": {
            "text/plain": [
              "0.26598552904870054"
            ]
          },
          "metadata": {},
          "execution_count": 13
        }
      ]
    },
    {
      "cell_type": "markdown",
      "source": [
        "# Question 5. [A]"
      ],
      "metadata": {
        "id": "iUHD-IgK5PGE"
      }
    },
    {
      "cell_type": "code",
      "execution_count": null,
      "metadata": {
        "colab": {
          "base_uri": "https://localhost:8080/"
        },
        "id": "gYlPBVtf2DlX",
        "outputId": "59431d2b-e5c8-4382-f44d-7ed685bb5f75"
      },
      "outputs": [
        {
          "output_type": "execute_result",
          "data": {
            "text/plain": [
              "219.12010804637984"
            ]
          },
          "metadata": {},
          "execution_count": 5
        }
      ],
      "source": [
        "from scipy import stats\n",
        "stats.norm.ppf(0.025, loc=45*5, scale=3)\n"
      ]
    },
    {
      "cell_type": "code",
      "source": [
        "stats.norm.ppf(0.975, loc=45*5, scale=3)\n"
      ],
      "metadata": {
        "colab": {
          "base_uri": "https://localhost:8080/"
        },
        "id": "OTpXx8LW3Nso",
        "outputId": "60cf0258-92e8-441b-ab39-6eedec0c0785"
      },
      "execution_count": null,
      "outputs": [
        {
          "output_type": "execute_result",
          "data": {
            "text/plain": [
              "230.87989195362016"
            ]
          },
          "metadata": {},
          "execution_count": 8
        }
      ]
    },
    {
      "cell_type": "code",
      "source": [
        "stats.norm.ppf(0.025, loc=45*7, scale=3)\n"
      ],
      "metadata": {
        "colab": {
          "base_uri": "https://localhost:8080/"
        },
        "id": "HLKV_heZ3spB",
        "outputId": "63f0cae4-ab54-4615-c2c4-00728886e2df"
      },
      "execution_count": null,
      "outputs": [
        {
          "output_type": "execute_result",
          "data": {
            "text/plain": [
              "309.1201080463798"
            ]
          },
          "metadata": {},
          "execution_count": 7
        }
      ]
    },
    {
      "cell_type": "code",
      "source": [
        "stats.norm.ppf(0.0975, loc=45*7, scale=3)"
      ],
      "metadata": {
        "colab": {
          "base_uri": "https://localhost:8080/"
        },
        "id": "1dPOej3i3uKY",
        "outputId": "d05b229e-e6ef-4b4b-ee28-7f8da5bf3059"
      },
      "execution_count": null,
      "outputs": [
        {
          "output_type": "execute_result",
          "data": {
            "text/plain": [
              "311.11221346121874"
            ]
          },
          "metadata": {},
          "execution_count": 9
        }
      ]
    },
    {
      "cell_type": "markdown",
      "source": [
        "The rupee range will be [219.12, 230.87] + [309.12, 320.87]\n",
        "= [528.24, 551.74]"
      ],
      "metadata": {
        "id": "tzG91hin33KP"
      }
    },
    {
      "cell_type": "markdown",
      "source": [
        "# Question 5. [B]"
      ],
      "metadata": {
        "id": "i55JzjOi5BC3"
      }
    },
    {
      "cell_type": "code",
      "source": [
        "stats.norm.ppf(0.05, loc=45*7, scale=3)"
      ],
      "metadata": {
        "colab": {
          "base_uri": "https://localhost:8080/"
        },
        "id": "_vS5ObGw4hQM",
        "outputId": "a6479789-d690-43d9-89a6-6cd758b610b5"
      },
      "execution_count": null,
      "outputs": [
        {
          "output_type": "execute_result",
          "data": {
            "text/plain": [
              "310.0654391191456"
            ]
          },
          "metadata": {},
          "execution_count": 11
        }
      ]
    },
    {
      "cell_type": "code",
      "source": [
        "stats.norm.ppf(0.05, loc=45*5, scale=3)"
      ],
      "metadata": {
        "colab": {
          "base_uri": "https://localhost:8080/"
        },
        "id": "SLUQgB884rIS",
        "outputId": "770ff7f7-9f61-41aa-c542-301cb4ae76aa"
      },
      "execution_count": null,
      "outputs": [
        {
          "output_type": "execute_result",
          "data": {
            "text/plain": [
              "220.0654391191456"
            ]
          },
          "metadata": {},
          "execution_count": 12
        }
      ]
    },
    {
      "cell_type": "markdown",
      "source": [
        "5th percentile of profit(in rupees) = 310.0654 + 220.0654 = 530.1308"
      ],
      "metadata": {
        "id": "R0GICO-H4xRL"
      }
    },
    {
      "cell_type": "code",
      "source": [],
      "metadata": {
        "id": "rZsa9_Ma466U"
      },
      "execution_count": null,
      "outputs": []
    }
  ]
}